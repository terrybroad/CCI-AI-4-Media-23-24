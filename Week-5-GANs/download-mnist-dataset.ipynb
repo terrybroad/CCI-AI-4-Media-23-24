{
 "cells": [
  {
   "cell_type": "markdown",
   "metadata": {},
   "source": [
    "# Download MNIST images dataset\n",
    "\n",
    "This code will download the training images from the [mnist dataset](https://drive.google.com/file/d/1ulz0PD7603FB0FazGO7hoS3fnY-Wg_uv/view?usp=sharing). This contains sets of emoji pngs from four tech companies, apple, google, facebook and twitter.\n",
    "\n",
    "For convinience we will be using the gdown python package to download the dataset directly from Google Drive."
   ]
  },
  {
   "cell_type": "markdown",
   "metadata": {},
   "source": [
    "You may need to upgrade the version of gdown you are using first:"
   ]
  },
  {
   "cell_type": "code",
   "execution_count": 3,
   "metadata": {},
   "outputs": [
    {
     "name": "stdout",
     "output_type": "stream",
     "text": [
      "Requirement already satisfied: gdown in /Users/tbroad/miniconda3/envs/aim/lib/python3.9/site-packages (4.7.1)\n",
      "Collecting gdown\n",
      "  Downloading gdown-5.0.1-py3-none-any.whl.metadata (5.6 kB)\n",
      "Requirement already satisfied: beautifulsoup4 in /Users/tbroad/miniconda3/envs/aim/lib/python3.9/site-packages (from gdown) (4.12.2)\n",
      "Requirement already satisfied: filelock in /Users/tbroad/miniconda3/envs/aim/lib/python3.9/site-packages (from gdown) (3.13.1)\n",
      "Requirement already satisfied: requests[socks] in /Users/tbroad/miniconda3/envs/aim/lib/python3.9/site-packages (from gdown) (2.31.0)\n",
      "Requirement already satisfied: tqdm in /Users/tbroad/miniconda3/envs/aim/lib/python3.9/site-packages (from gdown) (4.66.1)\n",
      "Requirement already satisfied: soupsieve>1.2 in /Users/tbroad/miniconda3/envs/aim/lib/python3.9/site-packages (from beautifulsoup4->gdown) (2.5)\n",
      "Requirement already satisfied: charset-normalizer<4,>=2 in /Users/tbroad/miniconda3/envs/aim/lib/python3.9/site-packages (from requests[socks]->gdown) (3.3.2)\n",
      "Requirement already satisfied: idna<4,>=2.5 in /Users/tbroad/miniconda3/envs/aim/lib/python3.9/site-packages (from requests[socks]->gdown) (3.6)\n",
      "Requirement already satisfied: urllib3<3,>=1.21.1 in /Users/tbroad/miniconda3/envs/aim/lib/python3.9/site-packages (from requests[socks]->gdown) (2.1.0)\n",
      "Requirement already satisfied: certifi>=2017.4.17 in /Users/tbroad/miniconda3/envs/aim/lib/python3.9/site-packages (from requests[socks]->gdown) (2023.11.17)\n",
      "Requirement already satisfied: PySocks!=1.5.7,>=1.5.6 in /Users/tbroad/miniconda3/envs/aim/lib/python3.9/site-packages (from requests[socks]->gdown) (1.7.1)\n",
      "Downloading gdown-5.0.1-py3-none-any.whl (16 kB)\n",
      "Installing collected packages: gdown\n",
      "  Attempting uninstall: gdown\n",
      "    Found existing installation: gdown 4.7.1\n",
      "    Uninstalling gdown-4.7.1:\n",
      "      Successfully uninstalled gdown-4.7.1\n",
      "Successfully installed gdown-5.0.1\n"
     ]
    }
   ],
   "source": [
    "!pip install --upgrade --no-cache-dir gdown"
   ]
  },
  {
   "cell_type": "code",
   "execution_count": 4,
   "metadata": {},
   "outputs": [
    {
     "name": "stdout",
     "output_type": "stream",
     "text": [
      "Downloading...\n",
      "From (original): https://drive.google.com/uc?id=1lCINbDX4kgJ7GqIbAi5CahOdmg2iNk4C\n",
      "From (redirected): https://drive.google.com/uc?id=1lCINbDX4kgJ7GqIbAi5CahOdmg2iNk4C&confirm=t&uuid=ca50a92d-3d53-4044-bfa5-a746eda259b0\n",
      "To: /Users/tbroad/teaching/repos/23-24/AI-4-Media-Prep-23-24/Week-5-GANs-and-Autoencoders/mnist_train_images.zip\n",
      "100%|██████████████████████████████████████| 80.8M/80.8M [00:13<00:00, 6.04MB/s]\n"
     ]
    }
   ],
   "source": [
    "!gdown 1ulz0PD7603FB0FazGO7hoS3fnY-Wg_uv"
   ]
  },
  {
   "cell_type": "markdown",
   "metadata": {},
   "source": [
    "### Unzip and move dataset (Mac and Linux)\n",
    "\n",
    "If you are using mac or linux, then run the following cell to unzip the dataset and move it into the folder to store class datasets. "
   ]
  },
  {
   "cell_type": "code",
   "execution_count": 6,
   "metadata": {},
   "outputs": [
    {
     "name": "stdout",
     "output_type": "stream",
     "text": [
      "unzip:  cannot find or open mnist_train_images.zip, mnist_train_images.zip.zip or mnist_train_images.zip.ZIP.\n"
     ]
    },
    {
     "name": "stdout",
     "output_type": "stream",
     "text": [
      "rm: mnist_train_images.zip: No such file or directory\n"
     ]
    }
   ],
   "source": [
    "!unzip mnist.zip\n",
    "!mv mnist ../data/class-datasets/mnist\n",
    "!rm mnist.zip\n",
    "!rm -rf __MACOSX"
   ]
  },
  {
   "cell_type": "markdown",
   "metadata": {},
   "source": [
    "### Unzip and move dataset (Windows)\n",
    "\n",
    "These are the same commands for Windows. If this is giving you an error then you can simply manually unzip the data folder and move it into `data/class-datasets` yourself without running this cell."
   ]
  },
  {
   "cell_type": "code",
   "execution_count": null,
   "metadata": {},
   "outputs": [],
   "source": [
    "!tar -xf mnist.zip\n",
    "!robocopy mnist ../data/class-datasets/mnist /E\n",
    "!del mnist.zip\n",
    "!rmdir /s /q mnist"
   ]
  }
 ],
 "metadata": {
  "kernelspec": {
   "display_name": "aim",
   "language": "python",
   "name": "python3"
  },
  "language_info": {
   "codemirror_mode": {
    "name": "ipython",
    "version": 3
   },
   "file_extension": ".py",
   "mimetype": "text/x-python",
   "name": "python",
   "nbconvert_exporter": "python",
   "pygments_lexer": "ipython3",
   "version": "3.9.18"
  }
 },
 "nbformat": 4,
 "nbformat_minor": 2
}
