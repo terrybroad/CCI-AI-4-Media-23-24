{
 "cells": [
  {
   "cell_type": "markdown",
   "metadata": {},
   "source": [
    "# Generating with a trained GAN\n",
    "\n",
    "In this notebook we will perform some basic tasks with generating images from our pretrained GAN. By default this notebook will load in the GAN model pretrained for 1000 epochs on MNIST, but feel free to load in your own trained model that you have trained in `gan-training.ipynb`. \n",
    "\n",
    "After working through this GAN notebook have a go at running the python script `interactive-gan-generation.py` to see how we can use human controlled inputs for controlling image generation. \n",
    "\n",
    "First lets do some imports:"
   ]
  },
  {
   "cell_type": "code",
   "execution_count": null,
   "metadata": {},
   "outputs": [],
   "source": [
    "%matplotlib inline\n",
    "\n",
    "import torch\n",
    "\n",
    "import numpy as np\n",
    "import torch.nn as nn\n",
    "import torch.nn.functional as F\n",
    "import torchvision.transforms as transforms\n",
    "\n",
    "import matplotlib.pyplot as plt\n",
    "import matplotlib.animation as animation\n",
    "\n",
    "from IPython.display import HTML\n",
    "from PIL import Image\n",
    "\n",
    "from src.util import slerp\n",
    "from src.gan_model import Generator"
   ]
  },
  {
   "cell_type": "markdown",
   "metadata": {},
   "source": [
    "#### Hyperparameters"
   ]
  },
  {
   "cell_type": "code",
   "execution_count": null,
   "metadata": {},
   "outputs": [],
   "source": [
    "# Training and model hyper-parameters\n",
    "device = 'cpu'\n",
    "image_size = 32 # Image resolution for training\n",
    "num_channels = 3 # Number of channels in the iamge\n",
    "z_dim = 100 # Size of latent dimension\n",
    "n_f_maps = 32 # Number of convolutional feature maps in model\n",
    "load_path = 'gan_weights_mnist_1000_epochs.pt'"
   ]
  },
  {
   "cell_type": "markdown",
   "metadata": {},
   "source": [
    "#### Instantiate generator model\n",
    "\n",
    "Here we instantiate our generator model. We have to set our model to `.eval()` because we used batch norm in training which needs to be turned off when we are generating samples with a batch size of 1. "
   ]
  },
  {
   "cell_type": "code",
   "execution_count": null,
   "metadata": {},
   "outputs": [],
   "source": [
    "generator = Generator(z_dim,n_f_maps,num_channels)\n",
    "\n",
    "checkpoint_sd = torch.load(load_path, map_location=torch.device('cpu'))\n",
    "generator.load_state_dict(checkpoint_sd['generator'])\n",
    "\n",
    "generator.eval()"
   ]
  },
  {
   "cell_type": "markdown",
   "metadata": {},
   "source": [
    "#### Generate random image\n",
    "\n",
    "Here we are create a random latent vector and generating a random image. You can run this cell multiple times to see how different generated images."
   ]
  },
  {
   "cell_type": "code",
   "execution_count": null,
   "metadata": {},
   "outputs": [],
   "source": [
    "with torch.no_grad():\n",
    "    random_latent = torch.randn(1, z_dim, 1, 1, device=device)\n",
    "    image_tensor = generator(random_latent)\n",
    "    image = transforms.functional.to_pil_image(image_tensor.squeeze(0))\n",
    "    \n",
    "    plt.figure(figsize=(3,3))\n",
    "    plt.axis(\"off\")\n",
    "    plt.title(\"random image\")\n",
    "    plt.imshow(image)"
   ]
  },
  {
   "cell_type": "markdown",
   "metadata": {},
   "source": [
    "### Performing arithmetic on latent variables\n",
    "\n",
    "The first set of tasks is to perform arithemetic with latent variables. Our latent variables are just vectors, and we can perform basic arithmetic like addition, subtraction and multiplication on them. Here we will make two latent vectors, latent_a and latent_b and use those to generate our images. \n",
    "\n",
    "As we are generating them randomly, you can re-run the cell a couple of times until you get images you are happy with:"
   ]
  },
  {
   "cell_type": "code",
   "execution_count": null,
   "metadata": {},
   "outputs": [],
   "source": [
    "with torch.no_grad():\n",
    "    latent_a = torch.randn(1, z_dim, 1, 1, device=device)\n",
    "    im_tensor_a = generator(latent_a)\n",
    "    image_a = transforms.functional.to_pil_image(im_tensor_a.squeeze(0))\n",
    "\n",
    "    latent_b = torch.randn(1, z_dim, 1, 1, device=device)\n",
    "    im_tensor_b = generator(latent_b)\n",
    "    image_b = transforms.functional.to_pil_image(im_tensor_b.squeeze(0))\n",
    "\n",
    "plt.figure(figsize=(3,6))\n",
    "plt.subplot(1,2,1)\n",
    "plt.axis(\"off\")\n",
    "plt.title(\"Image a\")\n",
    "plt.imshow(image_a)\n",
    "\n",
    "plt.subplot(1,2,2)\n",
    "plt.axis(\"off\")\n",
    "plt.title(\"Image b\")\n",
    "plt.imshow(image_b)"
   ]
  },
  {
   "cell_type": "markdown",
   "metadata": {},
   "source": [
    "#### Addition\n",
    "\n",
    "Creat a new latent variable named `latent_a_plus_b` by summing together the two latent variables `latent_a` and `latent_b`. \n",
    "\n",
    "Then with the following code use that latent variable to generate a new image, shown side by side with images A&B with the following code:"
   ]
  },
  {
   "cell_type": "code",
   "execution_count": null,
   "metadata": {},
   "outputs": [],
   "source": [
    "latent_a_plus_b = # ADD YOUR CODE HERE\n",
    "im_tensor_a_plus_b = generator(latent_a_plus_b)\n",
    "im_a_plus_b = transforms.functional.to_pil_image(im_tensor_a_plus_b.squeeze(0))\n",
    "\n",
    "plt.figure(figsize=(9,9))\n",
    "plt.subplot(1,3,1)\n",
    "plt.axis(\"off\")\n",
    "plt.title(\"Image a\")\n",
    "plt.imshow(image_a)\n",
    "\n",
    "plt.subplot(1,3,2)\n",
    "plt.axis(\"off\")\n",
    "plt.title(\"Image b\")\n",
    "plt.imshow(image_b)\n",
    "\n",
    "plt.subplot(1,3,3)\n",
    "plt.axis(\"off\")\n",
    "plt.title(\"Image a+b\")\n",
    "plt.imshow(im_a_plus_b)"
   ]
  },
  {
   "cell_type": "markdown",
   "metadata": {},
   "source": [
    "#### Subtraction\n",
    "\n",
    "Now, based on the code you developed in the previous cell, can you add code in here to create the images subtracting b from a and then subtracting a from b in the two following cells:"
   ]
  },
  {
   "cell_type": "code",
   "execution_count": null,
   "metadata": {},
   "outputs": [],
   "source": [
    "plt.figure(figsize=(3,9))\n",
    "plt.subplot(1,3,1)\n",
    "plt.axis(\"off\")\n",
    "plt.title(\"Image a\")\n",
    "plt.imshow(image_a)\n",
    "\n",
    "plt.subplot(1,3,2)\n",
    "plt.axis(\"off\")\n",
    "plt.title(\"Image b\")\n",
    "plt.imshow(image_b)\n",
    "\n",
    "plt.subplot(1,3,3)\n",
    "plt.axis(\"off\")\n",
    "plt.title(\"Image a-b\")\n",
    "plt.imshow(im_a_minus_b)"
   ]
  },
  {
   "cell_type": "code",
   "execution_count": null,
   "metadata": {},
   "outputs": [],
   "source": [
    "plt.figure(figsize=(9,9))\n",
    "plt.subplot(1,3,1)\n",
    "plt.axis(\"off\")\n",
    "plt.title(\"Image a\")\n",
    "plt.imshow(image_a)\n",
    "\n",
    "plt.subplot(1,3,2)\n",
    "plt.axis(\"off\")\n",
    "plt.title(\"Image b\")\n",
    "plt.imshow(image_b)\n",
    "\n",
    "plt.subplot(1,3,3)\n",
    "plt.axis(\"off\")\n",
    "plt.title(\"Image b-a\")\n",
    "plt.imshow(im_b_minus_a)"
   ]
  },
  {
   "cell_type": "markdown",
   "metadata": {},
   "source": [
    "#### Multiplication\n",
    "\n",
    "Finally, can you create an image by multiplying a with b?"
   ]
  },
  {
   "cell_type": "code",
   "execution_count": null,
   "metadata": {},
   "outputs": [],
   "source": [
    "plt.figure(figsize=(9,9))\n",
    "plt.subplot(1,3,1)\n",
    "plt.axis(\"off\")\n",
    "plt.title(\"Image a\")\n",
    "plt.imshow(image_a)\n",
    "\n",
    "plt.subplot(1,3,2)\n",
    "plt.axis(\"off\")\n",
    "plt.title(\"Image b\")\n",
    "plt.imshow(image_b)\n",
    "\n",
    "plt.subplot(1,3,3)\n",
    "plt.axis(\"off\")\n",
    "plt.title(\"Image a*b\")\n",
    "plt.imshow(im_a_times_b)"
   ]
  },
  {
   "cell_type": "markdown",
   "metadata": {},
   "source": [
    "### Latent interpolation\n",
    "\n",
    "Here we will interpolate between our two latent variables. We need to convert them into numpy and remove the empty dimension taking it from shape `(1,100,1,1)` (which the GAN expects) to just `(100,)`. This is why we need to do function calls `squeeze` and `unsqueeze`.\n",
    "\n",
    "Walk through the next code cell to see how we can use interpolation to create a smooth animation between our two latent variables. We will be using the `slerp` (spherical latent interpolation) function in `src/util.py`. "
   ]
  },
  {
   "cell_type": "code",
   "execution_count": null,
   "metadata": {},
   "outputs": [],
   "source": [
    "# Number of samples we take between two points\n",
    "num_interp = 100\n",
    "# Create a list of numbers between 1/100 and 1 of equal step\n",
    "interp_vals = np.linspace(1./num_interp, 1, num=num_interp)\n",
    "# Convert latent vectors to numpy arrays\n",
    "latent_a_np = latent_a.cpu().numpy().squeeze()\n",
    "latent_b_np = latent_b.cpu().numpy().squeeze()\n",
    "# Create our spherical interpolation between two points\n",
    "latent_interp = np.array([slerp(v, latent_a_np, latent_b_np) for v in interp_vals],\n",
    "                                dtype=np.float32)\n",
    "\n",
    "# Array for images to save to for visualisation\n",
    "img_list = []\n",
    "\n",
    "# For each latent vector in our interpolation\n",
    "for latent in latent_interp:\n",
    "    # Convert to torch tensor\n",
    "    latent = torch.tensor(latent)\n",
    "    # Reshape tensor to (1,100,1,1)\n",
    "    latent = latent.unsqueeze(0).unsqueeze(2).unsqueeze(3).to(device)\n",
    "    # Generate image from latent\n",
    "    image_tensor = generator(latent)\n",
    "    # Convert to PIL Image\n",
    "    image = transforms.functional.to_pil_image(image_tensor.cpu().squeeze(0))\n",
    "    # Add to image array\n",
    "    img_list.append(image)"
   ]
  },
  {
   "cell_type": "markdown",
   "metadata": {},
   "source": [
    "Now lets visualisation our latent space interpolation:"
   ]
  },
  {
   "cell_type": "code",
   "execution_count": null,
   "metadata": {},
   "outputs": [],
   "source": [
    "fig = plt.figure(figsize=(8,8))\n",
    "plt.axis(\"off\")\n",
    "ims = [[plt.imshow(i, animated=True)] for i in img_list]\n",
    "ani = animation.ArtistAnimation(fig, ims, interval=1000, repeat_delay=1000, blit=True)\n",
    "\n",
    "HTML(ani.to_jshtml())"
   ]
  },
  {
   "cell_type": "markdown",
   "metadata": {},
   "source": [
    "#### Interpolation tasks\n",
    "\n",
    "See if you can edit to cell with the latent space interpolation code to do the follow:\n",
    "\n",
    "**A:** Can you interpolate from B to A rather than A to B?\n",
    "\n",
    "**B:** Can you interpolate from A to B then back to A? To create a smooth looping animation. (Tip, [you can use the function np.vstack](https://numpy.org/doc/stable/reference/generated/numpy.vstack.html) to concatonate two numpy arrays).\n",
    "\n",
    "**C:** Can you interpolate from A to A+B to B? What about interpolating between any of the other latent variables here?"
   ]
  }
 ],
 "metadata": {
  "kernelspec": {
   "display_name": "aim",
   "language": "python",
   "name": "python3"
  },
  "language_info": {
   "codemirror_mode": {
    "name": "ipython",
    "version": 3
   },
   "file_extension": ".py",
   "mimetype": "text/x-python",
   "name": "python",
   "nbconvert_exporter": "python",
   "pygments_lexer": "ipython3",
   "version": "3.9.18"
  }
 },
 "nbformat": 4,
 "nbformat_minor": 2
}
