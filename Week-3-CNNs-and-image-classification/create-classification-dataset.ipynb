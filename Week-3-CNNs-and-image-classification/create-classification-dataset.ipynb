{
 "cells": [
  {
   "cell_type": "markdown",
   "metadata": {},
   "source": [
    "## Make a classification dataset\n",
    "\n",
    "In this notebook we are going to look at how to quickly make our own image classification datasets, which we can then use for training and image classifier.\n",
    "\n",
    "To do this we are going to use a python library called [`gallery-dl`](https://github.com/mikf/gallery-dl). This allows us to download entire image galleries from sites such as [pinterest](https://www.pinterest.co.uk/), [tumblr](https://www.tumblr.com/), and [bbc](https://www.bbc.co.uk/). \n",
    "\n",
    "In this walkthrough we will look at downloading from pinterest, downloading boards that have been pre-curated by other users on the platform. \n",
    "\n",
    "First lets do some imports:"
   ]
  },
  {
   "cell_type": "code",
   "execution_count": null,
   "metadata": {},
   "outputs": [],
   "source": [
    "import os\n",
    "import shutil"
   ]
  },
  {
   "cell_type": "markdown",
   "metadata": {},
   "source": [
    "### Step 1: Make a folder for your dataset\n",
    "\n",
    "Lets make a folder for you dataset. We will call it `my-classification-dataset`. And put it in the folder `data/my-data/`."
   ]
  },
  {
   "cell_type": "code",
   "execution_count": null,
   "metadata": {},
   "outputs": [],
   "source": [
    "my_dataset_path = '../data/my-data/my-classification-dataset'\n",
    "os.mkdir(my_dataset_path)"
   ]
  },
  {
   "cell_type": "markdown",
   "metadata": {},
   "source": [
    "### Step 2: Add subfolder for each class in you dataset\n",
    "\n",
    "These can be called anything. Change the names from `class-1` and `class-2` and `class-3` to whatever the names of the categories you want to have in your dataset. \n",
    "\n",
    "If you want to go ahead and add more class categories to the dataset, feel free! There is no limit to how many classes you can have. "
   ]
  },
  {
   "cell_type": "code",
   "execution_count": null,
   "metadata": {},
   "outputs": [],
   "source": [
    "os.mkdir( os.path.join(my_dataset_path, 'class-1') )\n",
    "os.mkdir( os.path.join(my_dataset_path, 'class-2') )\n",
    "os.mkdir( os.path.join(my_dataset_path, 'class-3') )"
   ]
  },
  {
   "cell_type": "markdown",
   "metadata": {},
   "source": [
    "### Step 3: Navigate to pinterest and download a board\n",
    "\n",
    "Go to https://www.pinterest.co.uk/ and search for a category of image or thing of your interest. It is totally up to you what classes you have in your dataset!\n",
    "\n",
    "When searching for a category you will need to click the filter on the side after a search query is made and then select the option for **Boards**. See the image below:\n",
    "\n",
    "![pinterest-filter-boards](../media/pinterest-filter-example.png)\n",
    "\n",
    "Select a board and then copy the URL of the pinterest board (e.g. https://www.pinterest.co.uk/user/board-id/) as an argument for the command below. e.g.:\n",
    "\n",
    "`%gallery-dl https://www.pinterest.co.uk/user-id/board-id/`"
   ]
  },
  {
   "cell_type": "code",
   "execution_count": null,
   "metadata": {},
   "outputs": [],
   "source": [
    "!gallery-dl PUT_URL_HERE"
   ]
  },
  {
   "cell_type": "markdown",
   "metadata": {},
   "source": [
    "### Step 4: Copy downloaded images into the respective class folder \n",
    "\n",
    "After downloading, you will see that there is now a folder called `gallery-dl` which will have the subfolders `gallery-dl/pinterest/user-id/board-id`  containing the images you have just downloaded (you will need to change **user-id** and **board-id** to whatever you have downloaded).\n",
    "\n",
    "What we want to do is copy the files from this folder into the class folder we created. \n",
    "\n",
    "To do that, edit the following code with the paths to your downloaded files and classes of your dataset:"
   ]
  },
  {
   "cell_type": "code",
   "execution_count": null,
   "metadata": {},
   "outputs": [],
   "source": [
    "source_directory = 'gallery-dl/pinterest/user-id/board-id' \n",
    "class_folder = 'class-1'\n",
    "target_directory = os.path.join(my_dataset_path, class_folder)\n",
    "    \n",
    "file_names = os.listdir(source_directory)\n",
    "    \n",
    "for file_name in file_names:\n",
    "    shutil.move(os.path.join(source_directory, file_name), target_directory)"
   ]
  },
  {
   "cell_type": "markdown",
   "metadata": {},
   "source": [
    "#### Step 5: Repeat\n",
    "\n",
    "Repeat steps 3 & 4 until you have a complete classification dataset. You may need to download more than 1 board for each class! A common rule of thumb is that you need at least 1000 images per classification category to train an effective classifier. Aim for at least that number for the number of data samples for each class in your dataset. \n",
    "\n",
    "**Don't forget to look at the data before training!** Make sure that the dataset you have collected contains the thing that you actually want to be there. It is very easy for junk or data samples that aren't actually of the class you want to be in there. You may have to do some manual data cleaning to remove unwanted samples if you are serious about training an effective image classifier. \n",
    "\n",
    "After completion you can go ahead and delete the folder `gallery-dl`.\n"
   ]
  },
  {
   "cell_type": "markdown",
   "metadata": {},
   "source": []
  }
 ],
 "metadata": {
  "kernelspec": {
   "display_name": "aim",
   "language": "python",
   "name": "python3"
  },
  "language_info": {
   "codemirror_mode": {
    "name": "ipython",
    "version": 3
   },
   "file_extension": ".py",
   "mimetype": "text/x-python",
   "name": "python",
   "nbconvert_exporter": "python",
   "pygments_lexer": "ipython3",
   "version": "3.9.18"
  }
 },
 "nbformat": 4,
 "nbformat_minor": 2
}
