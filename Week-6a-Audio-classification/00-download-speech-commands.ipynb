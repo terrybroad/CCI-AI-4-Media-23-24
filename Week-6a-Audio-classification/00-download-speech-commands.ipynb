{
 "cells": [
  {
   "cell_type": "markdown",
   "metadata": {},
   "source": [
    "# Download speech commands datataset\n",
    "\n",
    "This code will download a version of the [simple speech commands](https://arxiv.org/abs/1804.03209). This dataset contains a training a test set of audio recordings of 35 different words being spoken. This dataset has been pre-processed to make the data structure simple and adaptable for code reuse. \n",
    "\n",
    "For convinience we will be using the gdown python package to download the dataset directly from Google Drive."
   ]
  },
  {
   "cell_type": "code",
   "execution_count": null,
   "metadata": {},
   "outputs": [],
   "source": [
    "!gdown 1J0rGy64nRSNdAjgfDXzPHs_YHkvAiP8-"
   ]
  },
  {
   "cell_type": "markdown",
   "metadata": {},
   "source": [
    "If the download does not work in this notebook, simply navigate to https://drive.google.com/file/d/1J0rGy64nRSNdAjgfDXzPHs_YHkvAiP8-/view?usp=sharing, download, unzip and move the dataset to `data/class-datasets` manually."
   ]
  },
  {
   "cell_type": "markdown",
   "metadata": {},
   "source": [
    "### Unzip and move dataset (Mac and Linux)\n",
    "\n",
    "If you are using mac or linux, then run the following cell to unzip the dataset and move it into the folder to store class datasets. "
   ]
  },
  {
   "cell_type": "code",
   "execution_count": null,
   "metadata": {},
   "outputs": [],
   "source": [
    "!unzip speech-commands.zip\n",
    "!mv speech-commands ../data/class-datasets/speech-commands\n",
    "!rm speech-commands.zip\n",
    "!rm -rf __MACOSX"
   ]
  },
  {
   "cell_type": "markdown",
   "metadata": {},
   "source": [
    "### Unzip and move dataset (Windows)\n",
    "\n",
    "These are the same commands for Windows. If this is giving you an error then you can simply manually unzip the data folder and move it into `data/class-datasets` yourself without running this cell."
   ]
  },
  {
   "cell_type": "code",
   "execution_count": null,
   "metadata": {},
   "outputs": [],
   "source": [
    "!tar -xf speech-commands.zip\n",
    "!robocopy speech-commands ../data/class-datasets/speech-commands /E\n",
    "!del speech-commands.zip\n",
    "!rmdir /s /q speech-commands\n",
    "!rmdir /s /q __MACOSX"
   ]
  }
 ],
 "metadata": {
  "kernelspec": {
   "display_name": "aim",
   "language": "python",
   "name": "python3"
  },
  "language_info": {
   "codemirror_mode": {
    "name": "ipython",
    "version": 3
   },
   "file_extension": ".py",
   "mimetype": "text/x-python",
   "name": "python",
   "nbconvert_exporter": "python",
   "pygments_lexer": "ipython3",
   "version": "3.9.18"
  }
 },
 "nbformat": 4,
 "nbformat_minor": 2
}
