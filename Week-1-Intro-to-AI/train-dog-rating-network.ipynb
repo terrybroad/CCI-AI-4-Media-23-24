{
 "cells": [
  {
   "cell_type": "markdown",
   "metadata": {},
   "source": [
    "# Week 1 - Introduction to AI\n",
    "\n",
    "## Train a dog rating network\n",
    "\n",
    "In this code we will see how to train a dog rating network using the [we rate dogs dataset](https://www.kaggle.com/datasets/terencebroad/we-rate-dogs-images-ratings-and-captions).\n",
    "\n",
    "The code has been written for you. Your job today is to run the code to train a dog rating network and to write comments for the code. Work your way through the code and try to write a comment for each line. Lines that you do not understand and cannot write comments for, add them to the miro board (link in moodle) for dicussion at the end of the session.\n",
    "\n",
    "First lets do some imports:"
   ]
  },
  {
   "cell_type": "code",
   "execution_count": 6,
   "metadata": {},
   "outputs": [],
   "source": [
    "import torch\n",
    "import torchvision\n",
    "import torch.nn as nn\n",
    "import torch.optim as optim\n",
    "import torch.nn.functional as F\n",
    "import torchvision.transforms as transforms"
   ]
  },
  {
   "cell_type": "markdown",
   "metadata": {},
   "source": [
    "Import some more functions:"
   ]
  },
  {
   "cell_type": "code",
   "execution_count": 7,
   "metadata": {},
   "outputs": [],
   "source": [
    "#\n",
    "from src.model import DogRatingNetwork\n",
    "#\n",
    "from src.data_util import WeRateDogsDataset\n",
    "#\n",
    "from torch.utils.data import DataLoader"
   ]
  },
  {
   "cell_type": "markdown",
   "metadata": {},
   "source": [
    "Here we will define some hyperparameters. In your comment can you describe what each variable is for? (It's ok if you don't know everything!)"
   ]
  },
  {
   "cell_type": "code",
   "execution_count": 8,
   "metadata": {},
   "outputs": [],
   "source": [
    "#\n",
    "device = 'cpu'\n",
    "#\n",
    "momentum = 0.9\n",
    "#\n",
    "num_epochs = 10\n",
    "#\n",
    "batch_size = 100\n",
    "#\n",
    "learn_rate = 0.001\n",
    "#\n",
    "data_path = '../data/class-datasets/we-rate-dogs-dataset/'"
   ]
  },
  {
   "cell_type": "markdown",
   "metadata": {},
   "source": [
    "Here we define image transformations. Can you describe what each transform is doing?"
   ]
  },
  {
   "cell_type": "code",
   "execution_count": 9,
   "metadata": {},
   "outputs": [],
   "source": [
    "#\n",
    "transform = transforms.Compose(\n",
    "    [   \n",
    "        #\n",
    "        torchvision.transforms.Resize(64, antialias=True),\n",
    "        #\n",
    "        torchvision.transforms.CenterCrop(64),\n",
    "        #\n",
    "        transforms.ToTensor(),\n",
    "        #\n",
    "        transforms.Normalize((0.5, 0.5, 0.5), (0.5, 0.5, 0.5))\n",
    "    ])"
   ]
  },
  {
   "cell_type": "markdown",
   "metadata": {},
   "source": [
    "Defining our dataset and dataloader:"
   ]
  },
  {
   "cell_type": "code",
   "execution_count": 11,
   "metadata": {},
   "outputs": [],
   "source": [
    "#\n",
    "dataset = WeRateDogsDataset(data_path, transform=transform)\n",
    "#\n",
    "train_loader = DataLoader(dataset, batch_size=batch_size, shuffle=True)"
   ]
  },
  {
   "cell_type": "markdown",
   "metadata": {},
   "source": [
    "Initialising core objects for training. What are all of these objects?\n",
    "\n",
    "Try referring to the [PyTorch reference](https://pytorch.org/docs/stable/index.html) for functions or objects that you are unsure of. "
   ]
  },
  {
   "cell_type": "code",
   "execution_count": 12,
   "metadata": {},
   "outputs": [],
   "source": [
    "#\n",
    "model = DogRatingNetwork()\n",
    "#\n",
    "model.to(device)\n",
    "#\n",
    "criterion = nn.MSELoss()\n",
    "#\n",
    "optimizer = optim.SGD(model.parameters(), lr=0.001, momentum=0.9)"
   ]
  },
  {
   "cell_type": "markdown",
   "metadata": {},
   "source": [
    "This is the training loop. Again, can you describe what each line of code does?"
   ]
  },
  {
   "cell_type": "code",
   "execution_count": null,
   "metadata": {},
   "outputs": [],
   "source": [
    "#\n",
    "best_loss = 100000\n",
    "#\n",
    "for epoch in range(num_epochs): \n",
    "    #\n",
    "    running_loss = 0.0\n",
    "    #\n",
    "    for i, data in enumerate(train_loader, 0):\n",
    "        #\n",
    "        inputs, labels = data\n",
    "        #\n",
    "        inputs = inputs.to(device)\n",
    "        #\n",
    "        labels = labels.to(device)\n",
    "        #\n",
    "        optimizer.zero_grad()\n",
    "        #\n",
    "        outputs = model(inputs)\n",
    "        #\n",
    "        loss = criterion(outputs, labels.unsqueeze(1))\n",
    "        #\n",
    "        loss.backward()\n",
    "        #\n",
    "        optimizer.step()\n",
    "        #\n",
    "        running_loss += loss.item()\n",
    "    #\n",
    "    print(f'Epoch {epoch + 1}, total loss: {running_loss:.3f}')\n",
    "    #\n",
    "    if running_loss < best_loss:\n",
    "        #\n",
    "        best_loss = running_loss\n",
    "        #\n",
    "        torch.save(model.state_dict(), 'model.pt')\n",
    "    #\n",
    "    running_loss = 0.0"
   ]
  },
  {
   "cell_type": "markdown",
   "metadata": {},
   "source": [
    "Once you have tried to write comments for all the code here. Move on to the file test-dog-rating-network.ipynb to test out your trained network. \n",
    "\n",
    "If you want a further challenge, look at the files in the `src` folder (`src/data_util.py`, (`src/model.py`). Can you write comments for the code in there?"
   ]
  }
 ],
 "metadata": {
  "kernelspec": {
   "display_name": "aim",
   "language": "python",
   "name": "python3"
  },
  "language_info": {
   "codemirror_mode": {
    "name": "ipython",
    "version": 3
   },
   "file_extension": ".py",
   "mimetype": "text/x-python",
   "name": "python",
   "nbconvert_exporter": "python",
   "pygments_lexer": "ipython3",
   "version": "3.9.18"
  }
 },
 "nbformat": 4,
 "nbformat_minor": 2
}
