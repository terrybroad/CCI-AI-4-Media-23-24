{
 "cells": [
  {
   "cell_type": "markdown",
   "metadata": {},
   "source": [
    "# Download we rate dogs dataset\n",
    "\n",
    "This code will download the [we rate dogs dataset](https://git.arts.ac.uk/tbroad/we-rate-dogs-dataset). These contain images of dogs along with captions and ratings, scraped from [the weratedogs instagram account](https://www.instagram.com/weratedogs/?hl=en). You can find the code to scrape this dataset here: https://git.arts.ac.uk/tbroad/web-scrape-we-rate-dogs\n",
    "\n",
    "For convinience we will be using the gdown python package to download the dataset directly from Google Drive."
   ]
  },
  {
   "cell_type": "code",
   "execution_count": 3,
   "metadata": {},
   "outputs": [
    {
     "name": "stdout",
     "output_type": "stream",
     "text": [
      "Access denied with the following error:\n",
      "\n",
      " \tCannot retrieve the public link of the file. You may need to change\n",
      "\tthe permission to 'Anyone with the link', or have had many accesses. \n",
      "\n",
      "You may still be able to access the file from the browser:\n",
      "\n",
      "\t https://drive.google.com/uc?id=1AwbzQ7mwdpPJ0BdLRTULgzpf-DQcgXFE \n",
      "\n"
     ]
    }
   ],
   "source": [
    "!gdown --no-cookies 1AwbzQ7mwdpPJ0BdLRTULgzpf-DQcgXFE"
   ]
  },
  {
   "cell_type": "markdown",
   "metadata": {},
   "source": [
    "If you are getting an access denied error. Download the file manually from: https://drive.google.com/uc?id=1AwbzQ7mwdpPJ0BdLRTULgzpf-DQcgXFE and unzip the file and put it into the directory `class-datasets`\n",
    "\n"
   ]
  },
  {
   "cell_type": "markdown",
   "metadata": {},
   "source": [
    "### Unzip and move dataset (Mac and Linux)\n",
    "\n",
    "If you are using mac or linux, then run the following cell to unzip the dataset and move it into the folder to store class datasets. "
   ]
  },
  {
   "cell_type": "code",
   "execution_count": null,
   "metadata": {},
   "outputs": [],
   "source": [
    "!unzip we-rate-dogs-dataset.zip\n",
    "!mv we-rate-dogs-dataset ../data/class-datasets/we-rate-dogs-dataset\n",
    "!rm we-rate-dogs-dataset.zip\n",
    "!rm -rf __MACOSX"
   ]
  },
  {
   "cell_type": "markdown",
   "metadata": {},
   "source": [
    "### Unzip and move dataset (Windows)\n",
    "\n",
    "These are the same commands for Windows. If this is giving you an error then you can simply manually unzip the data folder and move it into `data/class-datasets` yourself without running this cell."
   ]
  },
  {
   "cell_type": "code",
   "execution_count": null,
   "metadata": {},
   "outputs": [],
   "source": [
    "!tar -xf we-rate-dogs-dataset.zip\n",
    "!robocopy we-rate-dogs-dataset ../data/class-datasets/we-rate-dogs-dataset /E\n",
    "!del we-rate-dogs-dataset.zip\n",
    "!rmdir /s /q we-rate-dogs-dataset\n",
    "!rmdir /s /q __MACOSX"
   ]
  }
 ],
 "metadata": {
  "kernelspec": {
   "display_name": "aim",
   "language": "python",
   "name": "python3"
  },
  "language_info": {
   "codemirror_mode": {
    "name": "ipython",
    "version": 3
   },
   "file_extension": ".py",
   "mimetype": "text/x-python",
   "name": "python",
   "nbconvert_exporter": "python",
   "pygments_lexer": "ipython3",
   "version": "3.9.18"
  }
 },
 "nbformat": 4,
 "nbformat_minor": 2
}
